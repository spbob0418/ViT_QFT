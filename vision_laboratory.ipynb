{
 "cells": [
  {
   "cell_type": "code",
   "execution_count": 3,
   "metadata": {},
   "outputs": [
    {
     "ename": "TypeError",
     "evalue": "'int' object is not callable",
     "output_type": "error",
     "traceback": [
      "\u001b[0;31m---------------------------------------------------------------------------\u001b[0m",
      "\u001b[0;31mTypeError\u001b[0m                                 Traceback (most recent call last)",
      "Cell \u001b[0;32mIn[3], line 18\u001b[0m\n\u001b[1;32m     15\u001b[0m \u001b[38;5;66;03m# NumPy 배열로 변환\u001b[39;00m\n\u001b[1;32m     16\u001b[0m selected_row \u001b[38;5;241m=\u001b[39m selected_row_df\u001b[38;5;241m.\u001b[39mto_numpy()\n\u001b[0;32m---> 18\u001b[0m \u001b[38;5;28mprint\u001b[39m(\u001b[43mselected_row\u001b[49m\u001b[38;5;241;43m.\u001b[39;49m\u001b[43msize\u001b[49m\u001b[43m(\u001b[49m\u001b[43m)\u001b[49m)\n\u001b[1;32m     20\u001b[0m \u001b[38;5;66;03m# # channels 정의 (채널은 선택된 행의 열 수와 같음)\u001b[39;00m\n\u001b[1;32m     21\u001b[0m \u001b[38;5;66;03m# channels = np.arange(selected_row.shape[1])\u001b[39;00m\n\u001b[1;32m     22\u001b[0m \n\u001b[0;32m   (...)\u001b[0m\n\u001b[1;32m     41\u001b[0m \u001b[38;5;66;03m# plt.savefig('tensor_10th_row_distribution.png')\u001b[39;00m\n\u001b[1;32m     42\u001b[0m \u001b[38;5;66;03m# plt.show()\u001b[39;00m\n",
      "\u001b[0;31mTypeError\u001b[0m: 'int' object is not callable"
     ]
    }
   ],
   "source": [
    "import pandas as pd\n",
    "import matplotlib.pyplot as plt\n",
    "import numpy as np\n",
    "\n",
    "# 파일 이름 및 경로 설정\n",
    "filename = 'g_3D_During_MLP(fc1)'\n",
    "csv_file_path = f'/home/shkim/QT_DeiT_small/reproduce/probe_report_pertensor_test/gradient_mask/{filename}.csv'\n",
    "\n",
    "# CSV 파일에서 데이터 불러오기\n",
    "g_2D_df = pd.read_csv(csv_file_path, header=None)\n",
    "\n",
    "# NumPy 배열로 변환\n",
    "g_2D = g_2D_df.to_numpy()\n",
    "\n",
    "# tokens과 channels 정의 (데이터 크기에 맞게 설정)\n",
    "tokens = np.arange(g_2D.shape[0])  # 행 수만큼 토큰 생성\n",
    "channels = np.arange(g_2D.shape[1])  # 열 수만큼 채널 생성\n",
    "X, Y = np.meshgrid(tokens, channels, indexing='ij')\n",
    "\n",
    "# Z 값 설정 (g_2D의 값)\n",
    "Z = g_2D\n",
    "\n",
    "# 1차원 배열로 변환\n",
    "X_flat = X.ravel()\n",
    "Y_flat = Y.ravel()\n",
    "Z_flat = Z.ravel()\n",
    "\n",
    "# 2D scatter plot 생성\n",
    "plt.figure(figsize=(10, 7))\n",
    "scatter = plt.scatter(X_flat, Y_flat, c=Z_flat, cmap='viridis', s=20, alpha=0.8)\n",
    "\n",
    "# 컬러바 추가 (각 요소의 크기를 색상으로 표현)\n",
    "plt.colorbar(scatter, label='Element Value')\n",
    "\n",
    "# 축 레이블 설정\n",
    "plt.xlabel('Token')\n",
    "plt.ylabel('Channel')\n",
    "plt.title('Tensor Element Distribution on Grid (Scatter Plot)')\n",
    "\n",
    "# 그래프를 파일로 저장\n",
    "plt.savefig('tensor_element_distribution_scatter.png')\n",
    "plt.show()\n"
   ]
  },
  {
   "cell_type": "code",
   "execution_count": null,
   "metadata": {},
   "outputs": [],
   "source": [
    "import pandas as pd\n",
    "import numpy as np\n",
    "import matplotlib.pyplot as plt\n",
    "\n",
    "# CSV 파일 불러오기\n",
    "\n",
    "file_path = '/home/shkim/QT_DeiT_small/reproduce/probe_report/probe_result_Hidden_State.csv'\n",
    "data = pd.read_csv(file_path)\n",
    "\n",
    "print(data.head())\n"
   ]
  },
  {
   "cell_type": "code",
   "execution_count": 2,
   "metadata": {},
   "outputs": [
    {
     "data": {
      "image/png": "[encoded data removed]",
      "text/plain": [
       "<Figure size 640x480 with 1 Axes>"
      ]
     },
     "metadata": {},
     "output_type": "display_data"
    },
    {
     "name": "stdout",
     "output_type": "stream",
     "text": [
      "Ratio of zero elements: 0.00%\n",
      "Ratio of non-zero elements: 100.00%\n"
     ]
    }
   ],
   "source": [
    "import pandas as pd\n",
    "import numpy as np\n",
    "import matplotlib.pyplot as plt\n",
    "\n",
    "# CSV 파일 불러오기\n",
    "\n",
    "file_path = '/home/shkim/QT_DeiT_small/reproduce/probe_report_fullprecision/gradient_mask/g_3D_During_MLP(fc1)_iter200.csv'\n",
    "data = pd.read_csv(file_path)\n",
    "\n",
    "# 1. 데이터 전처리 (각 요소의 절대값 계산)\n",
    "tensor_values = data.values.flatten()  # 데이터를 1차원으로 변환\n",
    "abs_values = np.abs(tensor_values)     # 절대값 계산\n",
    "\n",
    "# 2. 각 요소의 절대값 분포 시각화\n",
    "plt.hist(abs_values, bins=50, edgecolor='k', alpha=0.7)\n",
    "plt.xlabel('Element Magnitude')\n",
    "plt.ylabel('Frequency')\n",
    "plt.title('Distribution of Tensor Element Magnitudes')\n",
    "plt.show()\n",
    "\n",
    "# 3. 0과 0이 아닌 값의 비율 계산\n",
    "zero_count = np.sum(tensor_values == 0)\n",
    "non_zero_count = np.sum(tensor_values != 0)\n",
    "total_count = tensor_values.size\n",
    "\n",
    "zero_ratio = zero_count / total_count\n",
    "non_zero_ratio = non_zero_count / total_count\n",
    "\n",
    "print(f\"Ratio of zero elements: {zero_ratio:.2%}\")\n",
    "print(f\"Ratio of non-zero elements: {non_zero_ratio:.2%}\")\n"
   ]
  },
  {
   "cell_type": "code",
   "execution_count": null,
   "metadata": {},
   "outputs": [
    {
     "ename": "",
     "evalue": "",
     "output_type": "error",
     "traceback": [
      "\u001b[1;31m누락된 모듈 'packaging' 때문에 kernel을 시작하지 못했습니다. 이 모듈을 설치하는 것을 고려하세요.\n",
      "\u001b[1;31m자세한 내용을 보려면 <a href='https://aka.ms/kernelFailuresMissingModule'>여기</a>를 클릭합니다."
     ]
    }
   ],
   "source": [
    "import pandas as pd\n",
    "import matplotlib.pyplot as plt\n",
    "\n",
    "# CSV 파일 경로\n",
    "file_path = '/home/shkim/QT_DeiT_small/reproduce/token_probing_results/Hidden_State/block_0_layer_Hidden_State_epoch_9_iteration_1250_min_median_ratios.csv'\n",
    "\n",
    "# CSV 파일 읽기\n",
    "data = pd.read_csv(file_path, header=None)\n",
    "\n",
    "# x축은 열 번호 (197개)\n",
    "x = range(data.shape[1])\n",
    "\n",
    "# 모든 row별로 그래프 그리기\n",
    "plt.figure(figsize=(15, 10))\n",
    "for idx, row in data.iterrows():\n",
    "    plt.plot(x, row, label=f'Row {idx}')\n",
    "plt.title('Row-wise Graphs')\n",
    "plt.xlabel('Columns')\n",
    "plt.ylabel('Values')\n",
    "plt.grid(True)\n",
    "plt.legend(loc='upper right', fontsize=8)\n",
    "plt.show()\n",
    "\n",
    "# 모든 row의 평균값 계산\n",
    "y_mean = data.mean(axis=0)\n",
    "\n",
    "# 평균값 그래프 그리기\n",
    "plt.figure(figsize=(15, 5))\n",
    "plt.plot(x, y_mean, label='Mean of Rows', color='red')\n",
    "plt.title('Mean of All Rows')\n",
    "plt.xlabel('Columns')\n",
    "plt.ylabel('Mean Value')\n",
    "plt.grid(True)\n",
    "plt.legend()\n",
    "plt.show()"
   ]
  },
  {
   "cell_type": "code",
   "execution_count": null,
   "metadata": {},
   "outputs": [],
   "source": [
    "import wandb\n",
    "import matplotlib.pyplot as plt\n",
    "\n",
    "# 1. WandB API 클라이언트 초기화\n",
    "api = wandb.Api()\n",
    "\n",
    "# 2. 서로 다른 run_id 가져오기\n",
    "run_ids = [\"vusp64fz\", \"wzv43ktl\"]  # Run IDs를 리스트로 정의\n",
    "project_name = \"your_project_name\"  # 프로젝트 이름\n",
    "\n",
    "# 3. 데이터 불러오기\n",
    "data_frames = []\n",
    "for run_id in run_ids:\n",
    "    run = api.run(f\"{project_name}/{run_id}\")\n",
    "    # run.history()로 로그된 데이터를 가져옵니다 (예: 'loss', 'accuracy')\n",
    "    data_frames.append(run.history())\n",
    "\n",
    "# 4. 원하는 데이터 추출 및 병합\n",
    "for df, run_id in zip(data_frames, run_ids):\n",
    "    plt.plot(df['step'], df['loss'], label=f'Run {run_id}')  # 그래프 라벨 설정\n",
    "\n",
    "# 5. 그래프 그리기\n",
    "plt.xlabel('Step')\n",
    "plt.ylabel('Loss')\n",
    "plt.title('Loss Comparison Across Runs')\n",
    "plt.legend()\n",
    "plt.show()\n"
   ]
  }
 ],
 "metadata": {
  "kernelspec": {
   "display_name": "Python 3 (ipykernel)",
   "language": "python",
   "name": "python3"
  }
 },
 "nbformat": 4,
 "nbformat_minor": 2
}
